{
 "cells": [
  {
   "cell_type": "code",
   "execution_count": 1,
   "id": "be313188",
   "metadata": {},
   "outputs": [
    {
     "name": "stdout",
     "output_type": "stream",
     "text": [
      "=== Load Device - emulator-5554-(1080, 2400) ===\n"
     ]
    }
   ],
   "source": [
    "from testing.Device import Device\n",
    "device = Device()\n",
    "device.connect()"
   ]
  },
  {
   "cell_type": "code",
   "execution_count": 1,
   "id": "ca78ba9b",
   "metadata": {},
   "outputs": [],
   "source": [
    "from uta.UTA import UTA\n",
    "uta = UTA()"
   ]
  },
  {
   "cell_type": "code",
   "execution_count": 3,
   "id": "c7fa8330",
   "metadata": {
    "scrolled": false
   },
   "outputs": [
    {
     "name": "stdout",
     "output_type": "stream",
     "text": [
      "\n",
      "*** UI  0 ***\n",
      "* Capture screenshot *\n",
      "* Pre-process XML VH to clean-up as JSON and extract UI elements *\n",
      "* Annotate elements with their IDs on the screenshot image *\n",
      "* Check UI and Task Relation *\n",
      "[Request cost - $0.0280]  [Run time - 6.144s]\n",
      "{'Relation': '\"Related\"', 'Element Id': '11', 'Reason': '\"The \\'Block numbers\\' option is essential for moving the task forward to block a contact.\"', 'Action': '\"Click\"', 'Action Desc': '\"Click on the \\'Block numbers\\' option to proceed with blocking the contact.\"', 'UI Desc': '\"A contact information screen with options for calling, texting, setting up, and contact settings including the option to block numbers.\"', 'Input Text': '\"None\"'}\n"
     ]
    },
    {
     "ename": "IndexError",
     "evalue": "list index out of range",
     "output_type": "error",
     "traceback": [
      "\u001b[1;31m---------------------------------------------------------------------------\u001b[0m",
      "\u001b[1;31mIndexError\u001b[0m                                Traceback (most recent call last)",
      "Cell \u001b[1;32mIn[3], line 1\u001b[0m\n\u001b[1;32m----> 1\u001b[0m \u001b[43muta\u001b[49m\u001b[38;5;241;43m.\u001b[39;49m\u001b[43mauto_task\u001b[49m\u001b[43m(\u001b[49m\u001b[43mtask_desc\u001b[49m\u001b[38;5;241;43m=\u001b[39;49m\u001b[38;5;124;43m'\u001b[39;49m\u001b[38;5;124;43mBlock contact\u001b[39;49m\u001b[38;5;124;43m'\u001b[39;49m\u001b[43m,\u001b[49m\u001b[43m \u001b[49m\u001b[43mtask_id\u001b[49m\u001b[38;5;241;43m=\u001b[39;49m\u001b[38;5;124;43m'\u001b[39;49m\u001b[38;5;124;43m0\u001b[39;49m\u001b[38;5;124;43m'\u001b[39;49m\u001b[43m,\u001b[49m\u001b[43m \u001b[49m\u001b[43mdevice\u001b[49m\u001b[38;5;241;43m=\u001b[39;49m\u001b[43mdevice\u001b[49m\u001b[43m,\u001b[49m\u001b[43m \u001b[49m\u001b[43mshow_ui\u001b[49m\u001b[38;5;241;43m=\u001b[39;49m\u001b[38;5;28;43;01mTrue\u001b[39;49;00m\u001b[43m,\u001b[49m\u001b[43m \u001b[49m\u001b[43mprintlog\u001b[49m\u001b[38;5;241;43m=\u001b[39;49m\u001b[38;5;28;43;01mTrue\u001b[39;49;00m\u001b[43m,\u001b[49m\u001b[43m \u001b[49m\u001b[43mwait_time\u001b[49m\u001b[38;5;241;43m=\u001b[39;49m\u001b[38;5;241;43m3\u001b[39;49m\u001b[43m)\u001b[49m\n",
      "File \u001b[1;32mC:\\Mulong\\Code\\UTABackend\\uta\\UTA.py:154\u001b[0m, in \u001b[0;36mUTA.auto_task\u001b[1;34m(self, task_desc, task_id, device, max_try, show_ui, printlog, wait_time)\u001b[0m\n\u001b[0;32m    152\u001b[0m task\u001b[38;5;241m.\u001b[39mconversation_automation \u001b[38;5;241m=\u001b[39m []  \u001b[38;5;66;03m# clear up the conversation of previous ui\u001b[39;00m\n\u001b[0;32m    153\u001b[0m \u001b[38;5;66;03m# check action on the UI by checking the relation and target elements\u001b[39;00m\n\u001b[1;32m--> 154\u001b[0m action \u001b[38;5;241m=\u001b[39m \u001b[38;5;28;43mself\u001b[39;49m\u001b[38;5;241;43m.\u001b[39;49m\u001b[43mtask_action_checker\u001b[49m\u001b[38;5;241;43m.\u001b[39;49m\u001b[43maction_on_ui_vision\u001b[49m\u001b[43m(\u001b[49m\u001b[43mui\u001b[49m\u001b[43m,\u001b[49m\u001b[43m \u001b[49m\u001b[43mtask\u001b[49m\u001b[43m,\u001b[49m\u001b[43m \u001b[49m\u001b[43mprintlog\u001b[49m\u001b[43m)\u001b[49m\n\u001b[0;32m    155\u001b[0m action \u001b[38;5;241m=\u001b[39m \u001b[38;5;28mself\u001b[39m\u001b[38;5;241m.\u001b[39mset_action(action)\n\u001b[0;32m    156\u001b[0m \u001b[38;5;28mself\u001b[39m\u001b[38;5;241m.\u001b[39msystem_connector\u001b[38;5;241m.\u001b[39msave_task(task)\n",
      "File \u001b[1;32mC:\\Mulong\\Code\\UTABackend\\uta\\TaskAction\\TaskActionChecker.py:61\u001b[0m, in \u001b[0;36mTaskActionChecker.action_on_ui_vision\u001b[1;34m(self, ui_data, task, printlog)\u001b[0m\n\u001b[0;32m     59\u001b[0m relation \u001b[38;5;241m=\u001b[39m \u001b[38;5;28mself\u001b[39m\u001b[38;5;241m.\u001b[39m__task_ui_checker\u001b[38;5;241m.\u001b[39mcheck_ui_relation_gpt4v(ui_data, task, printlog)\n\u001b[0;32m     60\u001b[0m task\u001b[38;5;241m.\u001b[39mrelations\u001b[38;5;241m.\u001b[39mappend(relation)\n\u001b[1;32m---> 61\u001b[0m \u001b[38;5;28;01mreturn\u001b[39;00m \u001b[38;5;28;43mself\u001b[39;49m\u001b[38;5;241;43m.\u001b[39;49m\u001b[43mwrap_action\u001b[49m\u001b[43m(\u001b[49m\u001b[43maction\u001b[49m\u001b[38;5;241;43m=\u001b[39;49m\u001b[43mrelation\u001b[49m\u001b[43m,\u001b[49m\u001b[43m \u001b[49m\u001b[43mtask\u001b[49m\u001b[38;5;241;43m=\u001b[39;49m\u001b[43mtask\u001b[49m\u001b[43m,\u001b[49m\u001b[43m \u001b[49m\u001b[43mui_data\u001b[49m\u001b[38;5;241;43m=\u001b[39;49m\u001b[43mui_data\u001b[49m\u001b[43m)\u001b[49m\n",
      "File \u001b[1;32mC:\\Mulong\\Code\\UTABackend\\uta\\TaskAction\\TaskActionChecker.py:76\u001b[0m, in \u001b[0;36mTaskActionChecker.wrap_action\u001b[1;34m(action, task, ui_data)\u001b[0m\n\u001b[0;32m     74\u001b[0m     \u001b[38;5;28;01mexcept\u001b[39;00m \u001b[38;5;167;01mException\u001b[39;00m \u001b[38;5;28;01mas\u001b[39;00m e:\n\u001b[0;32m     75\u001b[0m         \u001b[38;5;28mprint\u001b[39m(action)\n\u001b[1;32m---> 76\u001b[0m         \u001b[38;5;28;01mraise\u001b[39;00m e\n\u001b[0;32m     77\u001b[0m \u001b[38;5;28;01mreturn\u001b[39;00m action\n",
      "File \u001b[1;32mC:\\Mulong\\Code\\UTABackend\\uta\\TaskAction\\TaskActionChecker.py:70\u001b[0m, in \u001b[0;36mTaskActionChecker.wrap_action\u001b[1;34m(action, task, ui_data)\u001b[0m\n\u001b[0;32m     68\u001b[0m \u001b[38;5;28;01mif\u001b[39;00m task\u001b[38;5;241m.\u001b[39mres_relation_check\u001b[38;5;241m.\u001b[39mget(\u001b[38;5;124m'\u001b[39m\u001b[38;5;124mElement Id\u001b[39m\u001b[38;5;124m'\u001b[39m) \u001b[38;5;129;01mand\u001b[39;00m task\u001b[38;5;241m.\u001b[39mres_relation_check[\u001b[38;5;124m'\u001b[39m\u001b[38;5;124mElement Id\u001b[39m\u001b[38;5;124m'\u001b[39m] \u001b[38;5;241m!=\u001b[39m \u001b[38;5;124m'\u001b[39m\u001b[38;5;124mNone\u001b[39m\u001b[38;5;124m'\u001b[39m:\n\u001b[0;32m     69\u001b[0m     \u001b[38;5;28;01mtry\u001b[39;00m:\n\u001b[1;32m---> 70\u001b[0m         bounds \u001b[38;5;241m=\u001b[39m \u001b[43mui_data\u001b[49m\u001b[38;5;241;43m.\u001b[39;49m\u001b[43melements\u001b[49m\u001b[43m[\u001b[49m\u001b[38;5;28;43mint\u001b[39;49m\u001b[43m(\u001b[49m\u001b[43maction\u001b[49m\u001b[43m[\u001b[49m\u001b[38;5;124;43m'\u001b[39;49m\u001b[38;5;124;43mElement Id\u001b[39;49m\u001b[38;5;124;43m'\u001b[39;49m\u001b[43m]\u001b[49m\u001b[43m)\u001b[49m\u001b[43m]\u001b[49m[\u001b[38;5;124m'\u001b[39m\u001b[38;5;124mbounds\u001b[39m\u001b[38;5;124m'\u001b[39m]\n\u001b[0;32m     71\u001b[0m         centroid \u001b[38;5;241m=\u001b[39m ((bounds[\u001b[38;5;241m2\u001b[39m] \u001b[38;5;241m+\u001b[39m bounds[\u001b[38;5;241m0\u001b[39m]) \u001b[38;5;241m/\u001b[39m\u001b[38;5;241m/\u001b[39m \u001b[38;5;241m2\u001b[39m, (bounds[\u001b[38;5;241m3\u001b[39m] \u001b[38;5;241m+\u001b[39m bounds[\u001b[38;5;241m1\u001b[39m]) \u001b[38;5;241m/\u001b[39m\u001b[38;5;241m/\u001b[39m \u001b[38;5;241m2\u001b[39m)\n\u001b[0;32m     72\u001b[0m         action[\u001b[38;5;124m'\u001b[39m\u001b[38;5;124mCoordinate\u001b[39m\u001b[38;5;124m'\u001b[39m] \u001b[38;5;241m=\u001b[39m centroid\n",
      "\u001b[1;31mIndexError\u001b[0m: list index out of range"
     ]
    }
   ],
   "source": [
    "uta.auto_task(task_desc='Block contact', task_id='0', device=device, show_ui=True, printlog=True, wait_time=3)"
   ]
  },
  {
   "cell_type": "code",
   "execution_count": null,
   "id": "561b6446",
   "metadata": {},
   "outputs": [],
   "source": []
  },
  {
   "cell_type": "code",
   "execution_count": 1,
   "id": "2731cea8",
   "metadata": {},
   "outputs": [],
   "source": [
    "from uta.UTA import UTA\n",
    "uta = UTA()"
   ]
  },
  {
   "cell_type": "code",
   "execution_count": null,
   "id": "6e312b20",
   "metadata": {},
   "outputs": [
    {
     "name": "stdout",
     "output_type": "stream",
     "text": [
      "* Pre-process XML VH to clean-up as JSON and extract UI elements *\n",
      "* Annotate elements with their IDs on the screenshot image *\n",
      "* Check UI and Task Relation *\n"
     ]
    }
   ],
   "source": [
    "uta.check_action_on_ui(ui_img_file='data/test/0/3.png', ui_xml_file='data/test/0/3.xml',\n",
    "                      task_desc='Block contact', resolution=(1080, 2400), keyboard_active=False)"
   ]
  },
  {
   "cell_type": "code",
   "execution_count": null,
   "id": "8d0986ae",
   "metadata": {},
   "outputs": [],
   "source": []
  },
  {
   "cell_type": "markdown",
   "id": "20c33ea2",
   "metadata": {},
   "source": [
    "### Setup testing"
   ]
  },
  {
   "cell_type": "code",
   "execution_count": 1,
   "id": "caebb29b",
   "metadata": {},
   "outputs": [],
   "source": [
    "task = 'Send message to my mom'\n",
    "user_id = 'user1'\n",
    "task_id = 'task1'"
   ]
  },
  {
   "cell_type": "code",
   "execution_count": 2,
   "id": "fcabfbe4",
   "metadata": {},
   "outputs": [
    {
     "name": "stderr",
     "output_type": "stream",
     "text": [
      "C:\\Users\\xie029\\AppData\\Local\\Programs\\Python\\Python310\\lib\\site-packages\\tqdm\\auto.py:22: TqdmWarning: IProgress not found. Please update jupyter and ipywidgets. See https://ipywidgets.readthedocs.io/en/stable/user_install.html\n",
      "  from .autonotebook import tqdm as notebook_tqdm\n"
     ]
    },
    {
     "name": "stdout",
     "output_type": "stream",
     "text": [
      "Warning! No module named 'sounddevice'\n",
      "=== Load Device - emulator-5554-(1080, 2400) ===\n"
     ]
    }
   ],
   "source": [
    "from os.path import join as pjoin\n",
    "from testing.Device import Device\n",
    "device = Device()\n",
    "device.connect()\n",
    "\n",
    "app_list = device.get_app_list_on_the_device()\n",
    "resolution = device.get_device_resolution()"
   ]
  },
  {
   "cell_type": "code",
   "execution_count": 3,
   "id": "b4501945",
   "metadata": {},
   "outputs": [
    {
     "name": "stdout",
     "output_type": "stream",
     "text": [
      "- Export UI image and xml to  data/user1\\task1\\0.png data/user1\\task1\\0.xml -\n"
     ]
    }
   ],
   "source": [
    "ui_img, ui_xml = device.cap_and_save_ui_screenshot_and_xml(ui_id=0, output_dir=pjoin('data/', user_id, task_id))"
   ]
  },
  {
   "cell_type": "markdown",
   "id": "75ea5df4",
   "metadata": {},
   "source": [
    "### 0. Setup user"
   ]
  },
  {
   "cell_type": "code",
   "execution_count": 1,
   "id": "41bd771f",
   "metadata": {},
   "outputs": [],
   "source": [
    "from uta.UTA import UTA\n",
    "from uta.DataStructures.Task import Task\n",
    "from uta.DataStructures.UIData import UIData"
   ]
  },
  {
   "cell_type": "code",
   "execution_count": 2,
   "id": "bf20fe64",
   "metadata": {},
   "outputs": [],
   "source": [
    "uta = UTA()"
   ]
  },
  {
   "cell_type": "code",
   "execution_count": 3,
   "id": "69d65610",
   "metadata": {},
   "outputs": [
    {
     "name": "stdout",
     "output_type": "stream",
     "text": [
      "* Pre-process XML VH to clean-up as JSON and extract UI elements *\n",
      "* Annotate elements with their IDs on the screenshot image *\n"
     ]
    }
   ],
   "source": [
    "ui_data = uta.process_ui_data('data/test/0.png', 'data/test/0.xml', (1080, 2400), show=True, annotate_bound=True)"
   ]
  },
  {
   "cell_type": "code",
   "execution_count": 4,
   "id": "e2ec5e31",
   "metadata": {},
   "outputs": [
    {
     "data": {
      "text/plain": [
       "{'class': 'root(container)',\n",
       " 'clickable': False,\n",
       " 'scrollable': False,\n",
       " 'id': 0,\n",
       " 'children': [{'class': '.view.View', 'clickable': False, 'id': 1},\n",
       "  {'resource-id': '.whatsapp:id/pager',\n",
       "   'class': 'x.viewpager.widget.ViewPager(container)',\n",
       "   'clickable': False,\n",
       "   'scrollable': True,\n",
       "   'id': 2,\n",
       "   'children': [{'class': '.view.ViewGroup(container)',\n",
       "     'clickable': False,\n",
       "     'scrollable': False,\n",
       "     'id': 3,\n",
       "     'children': [{'resource-id': '.whatsapp:id/container_scroll_view',\n",
       "       'class': '.widget.ScrollView(container)',\n",
       "       'clickable': False,\n",
       "       'scrollable': False,\n",
       "       'id': 4,\n",
       "       'children': [{'resource-id': '.whatsapp:id/empty_illustration',\n",
       "         'class': '.widget.ImageView',\n",
       "         'clickable': False,\n",
       "         'id': 5},\n",
       "        {'resource-id': '.whatsapp:id/title',\n",
       "         'class': '.widget.TextView',\n",
       "         'clickable': True,\n",
       "         'id': 6},\n",
       "        {'resource-id': '.whatsapp:id/prompt',\n",
       "         'class': '.widget.TextView',\n",
       "         'clickable': True,\n",
       "         'id': 7}]}]}]},\n",
       "  {'resource-id': '.whatsapp:id/toolbar',\n",
       "   'class': '.view.ViewGroup(container)',\n",
       "   'clickable': False,\n",
       "   'scrollable': False,\n",
       "   'id': 8,\n",
       "   'children': [{'class': '.widget.TextView', 'clickable': False, 'id': 9},\n",
       "    {'resource-id': '.whatsapp:id/menuitem_camera',\n",
       "     'class': '.widget.ImageButton',\n",
       "     'clickable': True,\n",
       "     'id': 10},\n",
       "    {'resource-id': '.whatsapp:id/menuitem_search',\n",
       "     'class': '.widget.ImageButton',\n",
       "     'clickable': True,\n",
       "     'id': 11},\n",
       "    {'resource-id': '.whatsapp:id/menuitem_overflow',\n",
       "     'class': '.widget.ImageView',\n",
       "     'clickable': True,\n",
       "     'id': 12}]},\n",
       "  {'resource-id': '.whatsapp:id/top_navigation_tabs',\n",
       "   'class': '.widget.HorizontalScrollView(container)',\n",
       "   'clickable': False,\n",
       "   'scrollable': False,\n",
       "   'id': 13,\n",
       "   'children': [{'resource-id': '.whatsapp:id/icon',\n",
       "     'class': '.widget.ImageView',\n",
       "     'clickable': True,\n",
       "     'id': 14},\n",
       "    {'resource-id': '.whatsapp:id/tab',\n",
       "     'class': '.widget.TextView',\n",
       "     'clickable': False,\n",
       "     'selected': True,\n",
       "     'id': 15},\n",
       "    {'resource-id': '.whatsapp:id/tab',\n",
       "     'class': '.widget.TextView',\n",
       "     'clickable': True,\n",
       "     'id': 16},\n",
       "    {'resource-id': '.whatsapp:id/tab',\n",
       "     'class': '.widget.TextView',\n",
       "     'clickable': True,\n",
       "     'id': 17}]},\n",
       "  {'resource-id': '.whatsapp:id/fabText',\n",
       "   'class': '.widget.Button',\n",
       "   'clickable': True,\n",
       "   'id': 18},\n",
       "  {'resource-id': ':id/statusBarBackground',\n",
       "   'class': '.view.View',\n",
       "   'clickable': False,\n",
       "   'id': 19}]}"
      ]
     },
     "execution_count": 4,
     "metadata": {},
     "output_type": "execute_result"
    }
   ],
   "source": [
    "ui_data.element_tree"
   ]
  },
  {
   "cell_type": "code",
   "execution_count": null,
   "id": "1b185162",
   "metadata": {},
   "outputs": [],
   "source": []
  },
  {
   "cell_type": "code",
   "execution_count": 6,
   "id": "0072ab86",
   "metadata": {},
   "outputs": [
    {
     "name": "stdout",
     "output_type": "stream",
     "text": [
      "- Export user info to C:/Mulong/Code/UTABackend/data/user1\\user.json -\n"
     ]
    },
    {
     "data": {
      "text/plain": [
       "<uta.DataStructures.User.User at 0x1cb65af6950>"
      ]
     },
     "execution_count": 6,
     "metadata": {},
     "output_type": "execute_result"
    }
   ],
   "source": [
    "uta.setup_user(user_id='user1', device_resolution=resolution, app_list=app_list)"
   ]
  },
  {
   "cell_type": "code",
   "execution_count": null,
   "id": "2630c825",
   "metadata": {},
   "outputs": [],
   "source": []
  },
  {
   "cell_type": "code",
   "execution_count": 7,
   "id": "8f1b0a9d",
   "metadata": {
    "scrolled": true
   },
   "outputs": [
    {
     "name": "stdout",
     "output_type": "stream",
     "text": [
      "* Pre-process XML VH to clean-up as JSON and extract UI elements *\n",
      "* Annotate elements with their IDs on the screenshot image *\n"
     ]
    }
   ],
   "source": [
    "ui_data = uta.process_ui_data(ui_img, ui_xml, resolution, True)"
   ]
  },
  {
   "cell_type": "code",
   "execution_count": 16,
   "id": "9442f186",
   "metadata": {},
   "outputs": [
    {
     "data": {
      "text/plain": [
       "{'class': 'root(container)',\n",
       " 'clickable': False,\n",
       " 'scrollable': False,\n",
       " 'id': 0,\n",
       " 'children': [{'resource-id': '.settings:id/settings_homepage_container',\n",
       "   'class': '.widget.ScrollView(container)',\n",
       "   'clickable': False,\n",
       "   'scrollable': True,\n",
       "   'id': 1,\n",
       "   'children': [{'resource-id': '.settings:id/account_avatar',\n",
       "     'class': '.widget.ImageView',\n",
       "     'clickable': True,\n",
       "     'id': 2,\n",
       "     'description': 'Profile picture, double tap to open Google Account'},\n",
       "    {'resource-id': '.settings:id/homepage_title',\n",
       "     'class': '.widget.TextView',\n",
       "     'clickable': False,\n",
       "     'id': 3,\n",
       "     'description': 'Settings'},\n",
       "    {'resource-id': '.settings:id/search_action_bar',\n",
       "     'class': '.view.ViewGroup(container)',\n",
       "     'clickable': True,\n",
       "     'scrollable': False,\n",
       "     'id': 4,\n",
       "     'children': [{'class': '.widget.ImageButton',\n",
       "       'clickable': True,\n",
       "       'id': 5,\n",
       "       'description': 'Search settings'},\n",
       "      {'resource-id': '.settings:id/search_action_bar_title',\n",
       "       'class': '.widget.TextView',\n",
       "       'clickable': True,\n",
       "       'id': 6,\n",
       "       'description': 'Search settings'}]},\n",
       "    {'resource-id': '.settings:id/recycler_view',\n",
       "     'class': 'x.recyclerview.widget.RecyclerView(container)',\n",
       "     'clickable': False,\n",
       "     'scrollable': False,\n",
       "     'id': 7,\n",
       "     'children': [{'class': '.widget.LinearLayout(container)',\n",
       "       'clickable': True,\n",
       "       'scrollable': False,\n",
       "       'id': 8,\n",
       "       'children': [{'resource-id': ':id/icon',\n",
       "         'class': '.widget.ImageView',\n",
       "         'clickable': True,\n",
       "         'id': 9,\n",
       "         'description': 'others'},\n",
       "        {'resource-id': ':id/title',\n",
       "         'class': '.widget.TextView',\n",
       "         'clickable': True,\n",
       "         'id': 10,\n",
       "         'description': 'Network & internet'},\n",
       "        {'resource-id': ':id/summary',\n",
       "         'class': '.widget.TextView',\n",
       "         'clickable': True,\n",
       "         'id': 11,\n",
       "         'description': 'Mobile, Wi‑Fi, hotspot'}]},\n",
       "      {'class': '.widget.LinearLayout(container)',\n",
       "       'clickable': True,\n",
       "       'scrollable': False,\n",
       "       'id': 12,\n",
       "       'children': [{'resource-id': ':id/icon',\n",
       "         'class': '.widget.ImageView',\n",
       "         'clickable': True,\n",
       "         'id': 13,\n",
       "         'description': 'CO'},\n",
       "        {'resource-id': ':id/title',\n",
       "         'class': '.widget.TextView',\n",
       "         'clickable': True,\n",
       "         'id': 14,\n",
       "         'description': 'Connected devices'},\n",
       "        {'resource-id': ':id/summary',\n",
       "         'class': '.widget.TextView',\n",
       "         'clickable': True,\n",
       "         'id': 15,\n",
       "         'description': 'Bluetooth, pairing'}]},\n",
       "      {'class': '.widget.LinearLayout(container)',\n",
       "       'clickable': True,\n",
       "       'scrollable': False,\n",
       "       'id': 16,\n",
       "       'children': [{'resource-id': ':id/icon',\n",
       "         'class': '.widget.ImageView',\n",
       "         'clickable': True,\n",
       "         'id': 17,\n",
       "         'description': 'dialpad'},\n",
       "        {'resource-id': ':id/title',\n",
       "         'class': '.widget.TextView',\n",
       "         'clickable': True,\n",
       "         'id': 18,\n",
       "         'description': 'Apps'},\n",
       "        {'resource-id': ':id/summary',\n",
       "         'class': '.widget.TextView',\n",
       "         'clickable': True,\n",
       "         'id': 19,\n",
       "         'description': 'Assistant, recent apps, default apps'}]},\n",
       "      {'class': '.widget.LinearLayout(container)',\n",
       "       'clickable': True,\n",
       "       'scrollable': False,\n",
       "       'id': 20,\n",
       "       'children': [{'resource-id': ':id/icon',\n",
       "         'class': '.widget.ImageView',\n",
       "         'clickable': True,\n",
       "         'id': 21,\n",
       "         'description': 'notifications'},\n",
       "        {'resource-id': ':id/title',\n",
       "         'class': '.widget.TextView',\n",
       "         'clickable': True,\n",
       "         'id': 22,\n",
       "         'description': 'Notifications'},\n",
       "        {'resource-id': ':id/summary',\n",
       "         'class': '.widget.TextView',\n",
       "         'clickable': True,\n",
       "         'id': 23,\n",
       "         'description': 'Notification history, conversations'}]},\n",
       "      {'class': '.widget.LinearLayout(container)',\n",
       "       'clickable': True,\n",
       "       'scrollable': False,\n",
       "       'id': 24,\n",
       "       'children': [{'resource-id': ':id/icon',\n",
       "         'class': '.widget.ImageView',\n",
       "         'clickable': True,\n",
       "         'id': 25},\n",
       "        {'resource-id': ':id/title',\n",
       "         'class': '.widget.TextView',\n",
       "         'clickable': True,\n",
       "         'id': 26,\n",
       "         'description': 'Battery'},\n",
       "        {'resource-id': ':id/summary',\n",
       "         'class': '.widget.TextView',\n",
       "         'clickable': True,\n",
       "         'id': 27,\n",
       "         'description': '100%'}]},\n",
       "      {'class': '.widget.LinearLayout(container)',\n",
       "       'clickable': True,\n",
       "       'scrollable': False,\n",
       "       'id': 28,\n",
       "       'children': [{'resource-id': ':id/icon',\n",
       "         'class': '.widget.ImageView',\n",
       "         'clickable': True,\n",
       "         'id': 29,\n",
       "         'description': 'list'},\n",
       "        {'resource-id': ':id/title',\n",
       "         'class': '.widget.TextView',\n",
       "         'clickable': True,\n",
       "         'id': 30,\n",
       "         'description': 'Storage'},\n",
       "        {'resource-id': ':id/summary',\n",
       "         'class': '.widget.TextView',\n",
       "         'clickable': True,\n",
       "         'id': 31,\n",
       "         'description': '45% used - 4.42 GB free'}]},\n",
       "      {'class': '.widget.LinearLayout',\n",
       "       'clickable': True,\n",
       "       'children': [],\n",
       "       'id': 32}]}]},\n",
       "  {'resource-id': ':id/statusBarBackground',\n",
       "   'class': '.view.View',\n",
       "   'clickable': False,\n",
       "   'id': 33,\n",
       "   'description': '3:17'}]}"
      ]
     },
     "execution_count": 16,
     "metadata": {},
     "output_type": "execute_result"
    }
   ],
   "source": [
    "json.dump(ui_data.element_tree)"
   ]
  },
  {
   "cell_type": "markdown",
   "id": "701da945",
   "metadata": {},
   "source": [
    "### 1. Declear task"
   ]
  },
  {
   "cell_type": "code",
   "execution_count": 6,
   "id": "eea712e8",
   "metadata": {},
   "outputs": [
    {
     "name": "stdout",
     "output_type": "stream",
     "text": [
      "\n",
      "*** Declare task ***\n",
      "- Import user info from file C:/Mulong/Code/UTABackend/data/user1\\user.json -\n",
      "* Clarify task *\n",
      "{'Clear': False, 'Question': 'What is the content of the message you want to send?', 'Options': ['Greetings', 'Appointment request', 'Quick catch-up', 'Share a photo or video'], 'Proc': 'Clarify'}\n",
      "- Create task folder C:/Mulong/Code/UTABackend/data/user1\\task2 -\n",
      "- Export task to file C:/Mulong/Code/UTABackend/data/user1\\task2\\task.json -\n"
     ]
    },
    {
     "data": {
      "text/plain": [
       "{'Clear': False,\n",
       " 'Question': 'What is the content of the message you want to send?',\n",
       " 'Options': ['Greetings',\n",
       "  'Appointment request',\n",
       "  'Quick catch-up',\n",
       "  'Share a photo or video'],\n",
       " 'Proc': 'Clarify'}"
      ]
     },
     "execution_count": 6,
     "metadata": {},
     "output_type": "execute_result"
    }
   ],
   "source": [
    "uta.declare_task(user_id=user_id, task_id=task_id, user_msg=task)"
   ]
  },
  {
   "cell_type": "code",
   "execution_count": 7,
   "id": "f0e26b6d",
   "metadata": {},
   "outputs": [
    {
     "name": "stdout",
     "output_type": "stream",
     "text": [
      "\n",
      "*** Declare task ***\n",
      "- Import user info from file C:/Mulong/Code/UTABackend/data/user1\\user.json -\n",
      "- Import task from file C:/Mulong/Code/UTABackend/data/user1\\task2\\task.json -\n",
      "* Clarify task *\n",
      "{'Clear': True, 'Question': '', 'Options': [], 'Proc': 'Clarify'}\n",
      "* Classify task *\n",
      "{'Task Type': 'App-Related Task', 'Explanation': 'This task requires the use of a specific application (such as the Messages app, WhatsApp, or any other messaging app) installed on the smartphone to accomplish its objective.', 'Proc': 'Classify'}\n",
      "* Decompose task *\n",
      "{'Decompose': 'True', 'Sub-tasks': ['Access the contact list', \"Identify 'Mom' in the contact list\", 'Compose message', 'Send message'], 'Explanation': \"The task 'Send message to my mom' requires the completion of several independent steps sequentially: accessing the contact list, locating 'Mom' among the contacts, composing the message, and finally sending it.\", 'Proc': 'Decompose'}\n",
      "- Export task to file C:/Mulong/Code/UTABackend/data/user1\\task2\\task.json -\n"
     ]
    },
    {
     "data": {
      "text/plain": [
       "{'Decompose': 'True',\n",
       " 'Sub-tasks': ['Access the contact list',\n",
       "  \"Identify 'Mom' in the contact list\",\n",
       "  'Compose message',\n",
       "  'Send message'],\n",
       " 'Explanation': \"The task 'Send message to my mom' requires the completion of several independent steps sequentially: accessing the contact list, locating 'Mom' among the contacts, composing the message, and finally sending it.\",\n",
       " 'Proc': 'Decompose'}"
      ]
     },
     "execution_count": 7,
     "metadata": {},
     "output_type": "execute_result"
    }
   ],
   "source": [
    "uta.declare_task(user_id=user_id, task_id=task_id, user_msg=\"What is for diner?\")"
   ]
  },
  {
   "cell_type": "code",
   "execution_count": 11,
   "id": "57f7d479",
   "metadata": {},
   "outputs": [
    {
     "data": {
      "text/plain": [
       "[{'role': 'system',\n",
       "  'content': 'You are a mobile virtual assistant that understands and interacts with the user interface to complete a given task.'},\n",
       " {'role': 'user',\n",
       "  'content': 'Assess the user task \"Send message to my mom\" to determine if it is sufficiently clear for execution on a smartphone. Given that seniors often provide vague or incomplete task descriptions, identify the most crucial piece of missing information. If the task is clear, indicate so. If not, provide a focused question with up to 4 selectable options to clarify the task effectively. The Options should be designed to extract the most essential missing detail for task clarification. Return your analysis in JSON format, comprising: 1. \"Clear\": a boolean indicating if the task is clear enough. 2. \"Question\": a single question for further task clarification. 3. \"Options\": a list of up to 4 example options that may answers the question. Response for a clear task: {\"Clear\": true, \"Question\": \"\", \"Options\": []}.Example response for an unclear task (related to app choice): {\"Clear\": false, \"Question\": \"Which app would you prefer to use for this communication?\", \"Options\": [\"Message\", \"WhatsApp\", \"Meta\", \"Phone Call\"]}. Example response for an unclear task (related to message content): {\"Clear\": false, \"Question\": \"What is the content of the message you want to send?\", \"Options\": [\"Greetings\", \"Appointment request\", \"Quick catch-up\", \"Share a photo or video\"]}.'},\n",
       " {'role': 'assistant',\n",
       "  'content': '{\"Clear\": false, \"Question\": \"What is the content of the message you want to send?\", \"Options\": [\"Greetings\", \"Appointment request\", \"Quick catch-up\", \"Share a photo or video\"]}'},\n",
       " {'role': 'user', 'content': 'Response to the Question: What is for diner?'},\n",
       " {'role': 'assistant',\n",
       "  'content': '{\"Clear\": true, \"Question\": \"\", \"Options\": []}'},\n",
       " {'role': 'user',\n",
       "  'content': 'Response to the Question: Send message to my mom'},\n",
       " {'role': 'assistant',\n",
       "  'content': '{\"Clear\": false, \"Question\": \"What is the content of the message you want to send?\", \"Options\": [\"Greetings\", \"Appointment request\", \"Quick catch-up\", \"Share a photo or video\"]}'},\n",
       " {'role': 'user', 'content': 'Response to the Question: What is for diner?'},\n",
       " {'role': 'assistant',\n",
       "  'content': '{\"Clear\": true, \"Question\": \"\", \"Options\": []}'}]"
      ]
     },
     "execution_count": 11,
     "metadata": {},
     "output_type": "execute_result"
    }
   ],
   "source": [
    "uta.cur_task.conversation_clarification"
   ]
  },
  {
   "cell_type": "markdown",
   "id": "a8c56ef5",
   "metadata": {},
   "source": [
    "### 2. Check action on the UI for the task"
   ]
  },
  {
   "cell_type": "code",
   "execution_count": 10,
   "id": "53337a26",
   "metadata": {},
   "outputs": [
    {
     "name": "stdout",
     "output_type": "stream",
     "text": [
      "- Import user info from file data\\user1\\user.json -\n",
      "- Import task from file data\\user1\\task1\\task.json -\n",
      "\n",
      " *** Process UI ***\n",
      "* Reformat xml vh *\n",
      "* Extract ui elements from vh *\n",
      "* Analyse descriptions for elements *\n",
      "OCR Time: 1.066s\n",
      "CLs Time: 1.982s\n",
      "* Organize simplified element tree *\n",
      "- Export task to file data\\user1\\task1\\1_uitree.json -\n",
      "\n",
      "*** Check Action on UI *** \n",
      "* Check UI and Task Relation *\n",
      "{'Relation': 'Unrelated', 'Reason': \"The UI hierarchy does not contain any elements related to 'Contacts'. All the interactive inputs like buttons are related to 'SKIP', 'Make it your map', 'Sign in', and no 'Contacts' related themes are discovered. Additionally, the resource ids are associated with a maps app, which suggests this UI is not for checking contacts.\"}\n",
      "* Check Any Action to Go Back to Related UI *\n",
      "{'Can': 'No', 'Element': 'None', 'Reason': \"There is no element in the current UI that navigates back. The clickable elements are related to 'SKIP' and 'Sign in'.\", 'Description': 'None'}\n",
      "* Check Related App *\n",
      "{'App': 'com.android.contacts', 'Reason': 'This app is responsible for managing and checking contacts on Android devices'}\n",
      "- Export task to file data\\user1\\task1\\task.json -\n"
     ]
    }
   ],
   "source": [
    "ui_data, action = uta.automate_task(user_id='user1', task_id='task1', ui_img_file='data/user1/task1/1.png', ui_xml_file='data/user1/task1/1.xml', printlog=False)"
   ]
  },
  {
   "cell_type": "code",
   "execution_count": 13,
   "id": "d32730da",
   "metadata": {},
   "outputs": [
    {
     "name": "stdout",
     "output_type": "stream",
     "text": [
      "*** Perform Action ***\n",
      "{'Action': 'Launch', 'App': 'com.android.contacts', 'Description': 'Launch app'}\n",
      "--- Launch app: com.android.contacts ---\n"
     ]
    }
   ],
   "source": [
    "device.take_action(action=action, ui_data=ui_data, show=True)"
   ]
  },
  {
   "cell_type": "code",
   "execution_count": null,
   "id": "14288967",
   "metadata": {},
   "outputs": [],
   "source": []
  },
  {
   "cell_type": "code",
   "execution_count": null,
   "id": "238132b3",
   "metadata": {},
   "outputs": [],
   "source": []
  },
  {
   "cell_type": "code",
   "execution_count": 6,
   "id": "9e359667",
   "metadata": {},
   "outputs": [
    {
     "name": "stdout",
     "output_type": "stream",
     "text": [
      "- Import user info from file C:/Mulong/Code/UTABackend/data/user1\\user.json -\n",
      "- Import task from file C:/Mulong/Code/UTABackend/data/user1\\task2\\task.json -\n"
     ]
    },
    {
     "data": {
      "text/plain": [
       "(<uta.DataStructures.User.User at 0x1ca899fc8b0>,\n",
       " <uta.DataStructures.Task.Task at 0x1ca8e18c070>)"
      ]
     },
     "execution_count": 6,
     "metadata": {},
     "output_type": "execute_result"
    }
   ],
   "source": [
    "uta.instantiate_user_task(user_id, task_id)"
   ]
  },
  {
   "cell_type": "code",
   "execution_count": 8,
   "id": "e18563fb",
   "metadata": {},
   "outputs": [
    {
     "data": {
      "text/plain": [
       "{'task_id': 'task2',\n",
       " 'user_id': 'user1',\n",
       " 'task_description': 'Send message to my mom',\n",
       " 'task_type': 'App-Related Task',\n",
       " 'cur_package': None,\n",
       " 'cur_activity': None,\n",
       " 'conversation_clarification': [{'role': 'system',\n",
       "   'content': 'You are a mobile virtual assistant that understands and interacts with the user interface to complete a given task.'},\n",
       "  {'role': 'user',\n",
       "   'content': 'Assess the user task \"Send message to my mom\" to determine if it is sufficiently clear for execution on a smartphone. Given that seniors often provide vague or incomplete task descriptions, identify the most crucial piece of missing information. If the task is clear, indicate so. If not, provide a focused question with up to 4 selectable options to clarify the task effectively. The Options should be designed to extract the most essential missing detail for task clarification. Return your analysis in JSON format, comprising: 1. \"Clear\": a boolean indicating if the task is clear enough. 2. \"Question\": a single question for further task clarification. 3. \"Options\": a list of up to 4 example options that may answers the question. Response for a clear task: {\"Clear\": true, \"Question\": \"\", \"Options\": []}.Example response for an unclear task (related to app choice): {\"Clear\": false, \"Question\": \"Which app would you prefer to use for this communication?\", \"Options\": [\"Message\", \"WhatsApp\", \"Meta\", \"Phone Call\"]}. Example response for an unclear task (related to message content): {\"Clear\": false, \"Question\": \"What is the content of the message you want to send?\", \"Options\": [\"Greetings\", \"Appointment request\", \"Quick catch-up\", \"Share a photo or video\"]}.'},\n",
       "  {'role': 'assistant',\n",
       "   'content': '{\"Clear\": false, \"Question\": \"What is the content of the message you want to send?\", \"Options\": [\"Greetings\", \"Appointment request\", \"Quick catch-up\", \"Share a photo or video\"]}'},\n",
       "  {'role': 'user', 'content': 'Response to the Question: What is for diner?'},\n",
       "  {'role': 'assistant',\n",
       "   'content': '{\"Clear\": true, \"Question\": \"\", \"Options\": []}'}],\n",
       " 'res_clarification': {'Clear': True,\n",
       "  'Question': '',\n",
       "  'Options': [],\n",
       "  'Proc': 'Clarify'},\n",
       " 'res_classification': {'Task Type': 'App-Related Task',\n",
       "  'Explanation': 'This task requires the use of a specific application (such as the Messages app, WhatsApp, or any other messaging app) installed on the smartphone to accomplish its objective.',\n",
       "  'Proc': 'Classify'},\n",
       " 'res_decomposition': {'Decompose': 'True',\n",
       "  'Sub-tasks': ['Access the contact list',\n",
       "   \"Identify 'Mom' in the contact list\",\n",
       "   'Compose message',\n",
       "   'Send message'],\n",
       "  'Explanation': \"The task 'Send message to my mom' requires the completion of several independent steps sequentially: accessing the contact list, locating 'Mom' among the contacts, composing the message, and finally sending it.\",\n",
       "  'Proc': 'Decompose'},\n",
       " 'subtasks': ['Access the contact list',\n",
       "  \"Identify 'Mom' in the contact list\",\n",
       "  'Compose message',\n",
       "  'Send message'],\n",
       " 'conversation_automation': [],\n",
       " 'res_relation_check': {},\n",
       " 'res_action_check': {},\n",
       " 'res_go_back_check': {},\n",
       " 'relations': [],\n",
       " 'except_elements_ids': [],\n",
       " 'actions': [],\n",
       " 'related_app': None,\n",
       " 'res_related_app_check': {},\n",
       " 'except_apps': []}"
      ]
     },
     "execution_count": 8,
     "metadata": {},
     "output_type": "execute_result"
    }
   ],
   "source": [
    "uta.cur_task.to_dict()"
   ]
  },
  {
   "cell_type": "code",
   "execution_count": 10,
   "id": "63fe1547",
   "metadata": {},
   "outputs": [
    {
     "name": "stdout",
     "output_type": "stream",
     "text": [
      "(Steps and subtasks to complete the task: ['Access the contact list', \"Identify 'Mom' in the contact list\", 'Compose message', 'Send message'].)\n",
      "\n"
     ]
    }
   ],
   "source": [
    "print(uta.task_action_checker.wrap_task_info(uta.cur_task))"
   ]
  },
  {
   "cell_type": "code",
   "execution_count": null,
   "id": "6d1e0d4b",
   "metadata": {},
   "outputs": [],
   "source": []
  },
  {
   "cell_type": "code",
   "execution_count": null,
   "id": "96d702b5",
   "metadata": {},
   "outputs": [],
   "source": []
  },
  {
   "cell_type": "code",
   "execution_count": 7,
   "id": "91a6b9ba",
   "metadata": {},
   "outputs": [],
   "source": [
    "ui = UIData('data/user1/task1/1.png', 'data/user1/task1/1.xml', uta.cur_user.device_resolution)"
   ]
  },
  {
   "cell_type": "code",
   "execution_count": 9,
   "id": "cfd71b37",
   "metadata": {},
   "outputs": [
    {
     "name": "stdout",
     "output_type": "stream",
     "text": [
      "*** Process UI ***\n",
      "* Reformat xml vh *\n",
      "* Extract ui elements from vh *\n",
      "* Analyse descriptions for elements *\n",
      "OCR Time: 0.803s\n",
      "CLs Time: 0.271s\n",
      "* Organize simplified element tree *\n"
     ]
    },
    {
     "data": {
      "text/plain": [
       "<uta.DataStructures.UIData.UIData at 0x1e4c8e627a0>"
      ]
     },
     "execution_count": 9,
     "metadata": {},
     "output_type": "execute_result"
    }
   ],
   "source": [
    "uta.ui_processor.process_ui(ui)"
   ]
  },
  {
   "cell_type": "code",
   "execution_count": 6,
   "id": "aa2badf8",
   "metadata": {},
   "outputs": [
    {
     "name": "stdout",
     "output_type": "stream",
     "text": [
      "* Export task to file data/user_test\\1_elements.json data/user_test\\1_tree.json *\n"
     ]
    }
   ],
   "source": [
    "uta.system_connector.save_ui_data(ui, 'data/user_test')"
   ]
  },
  {
   "cell_type": "code",
   "execution_count": 7,
   "id": "350f5c24",
   "metadata": {},
   "outputs": [
    {
     "name": "stdout",
     "output_type": "stream",
     "text": [
      "* Import user info from file data\\user1\\user.json *\n",
      "* Import task from file data\\user1\\task1\\task.json *\n"
     ]
    }
   ],
   "source": [
    "user, task = uta.instantiate_user_task('user1', 'task1')"
   ]
  },
  {
   "cell_type": "code",
   "execution_count": 8,
   "id": "ae469fca",
   "metadata": {},
   "outputs": [
    {
     "data": {
      "text/plain": [
       "{'task_id': 'task1',\n",
       " 'user_id': 'user1',\n",
       " 'parent_task_id': None,\n",
       " 'task_description': 'Send \"hello\" to my mom',\n",
       " 'task_type': None,\n",
       " 'children_ids': [],\n",
       " 'conversation_clarification': [{'role': 'system',\n",
       "   'content': 'You are a mobile virtual assistant that understands and interacts with the user interface to complete a given task.'},\n",
       "  {'role': 'user',\n",
       "   'content': 'Assess the user task \"Send \"hello\" to my mom\" to determine if it is sufficiently clear for execution on a smartphone. Given that seniors often provide vague or incomplete task descriptions, identify the most crucial piece of missing information. If the task is clear, indicate so. If not, provide a focused question with up to 4 selectable options to clarify the task effectively. The selections should be designed to extract the most essential missing detail for task clarification. Return your analysis in JSON format, comprising: 1. \"Clear\": a boolean indicating if the task is clear enough as is, 2. \"Question\": a single question for further task clarification, 3. \"Options\": a list of up to 4 example options that may answers the question. Example response for a clear task: {\"Clear\": true, \"Question\": \"\", \"Selections\": []} Example response for an unclear task (related to app choice): {\"Clear\": false, \"Question\": \"Which app would you prefer to use for this communication?\", \"Options\": [\"Message\", \"WhatsApp\", \"Meta\", \"Phone Call\"]} Example response for an unclear task (related to message content): {\"Clear\": false, \"Question\": \"What is the content of the message you want to send?\", \"Options\": [\"Greetings\", \"Appointment request\", \"Quick catch-up\", \"Share a photo or video\"]}'},\n",
       "  {'role': 'assistant',\n",
       "   'content': '{\"Clear\": false, \"Question\": \"Which app should I use to send the message?\", \"Options\": [\"SMS\", \"WhatsApp\", \"Email\", \"Facebook Messenger\"]}'},\n",
       "  {'role': 'user', 'content': 'Send \"hello\" to my mom'},\n",
       "  {'role': 'assistant',\n",
       "   'content': '{\"Clear\": false, \"Question\": \"Which app should I use to send the message?\", \"Options\": [\"SMS\", \"WhatsApp\", \"Email\", \"Facebook Messenger\"]}'},\n",
       "  {'role': 'user', 'content': 'Send \"hello\" to my mom'},\n",
       "  {'role': 'assistant',\n",
       "   'content': '{\"Clear\": false, \"Question\": \"Which app should I use to send the message?\", \"Options\": [\"SMS\", \"WhatsApp\", \"Email\", \"Facebook Messenger\"]}'}],\n",
       " 'res_clarification': {'Clear': False,\n",
       "  'Question': 'Which app should I use to send the message?',\n",
       "  'Options': ['SMS', 'WhatsApp', 'Email', 'Facebook Messenger']},\n",
       " 'res_decomposition': {},\n",
       " 'res_classification': {},\n",
       " 'conversation_automation': [{'role': 'system',\n",
       "   'content': 'You are a mobile virtual assistant that understands and interacts with the user interface to complete a given task.'}],\n",
       " 'steps': [],\n",
       " 'task_execution_result': None}"
      ]
     },
     "execution_count": 8,
     "metadata": {},
     "output_type": "execute_result"
    }
   ],
   "source": [
    "task.to_dict()"
   ]
  },
  {
   "cell_type": "code",
   "execution_count": null,
   "id": "11ceda96",
   "metadata": {},
   "outputs": [],
   "source": []
  }
 ],
 "metadata": {
  "kernelspec": {
   "display_name": "Python 3 (ipykernel)",
   "language": "python",
   "name": "python3"
  },
  "language_info": {
   "codemirror_mode": {
    "name": "ipython",
    "version": 3
   },
   "file_extension": ".py",
   "mimetype": "text/x-python",
   "name": "python",
   "nbconvert_exporter": "python",
   "pygments_lexer": "ipython3",
   "version": "3.10.10"
  }
 },
 "nbformat": 4,
 "nbformat_minor": 5
}
